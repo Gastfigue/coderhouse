{
  "cells": [
    {
      "cell_type": "markdown",
      "metadata": {
        "id": "qE77MRBhziqJ"
      },
      "source": [
        "**Contexto**\n",
        "\n",
        "El objetivo de este analisis es determinar el patron/variable que conlleva a los usuarios de la aerolinea  a estar o no satisfechos con el servicio recibido.  Se intentara responder las siguientes hipotesis/preguntas:\n",
        "- El genero es una variable que influye en la satisfaccion del cliente?\n",
        "- Las horas de vuelo tienen incidencia en la satisfaccion de cliente?\n",
        "- La clase en la que vuelen sera un factor importante en la satisfaccion, a mejor clase mayor satisfacción?\n",
        "- Existe un servicio que determine directamente la satisfacion o no del cliente?\n",
        "\n",
        " **Abstract:**\n",
        "\n",
        "En el siguiente proyecto presentamos el dataset \"Flights\" con 23 variables y analiza mas de 100.000 viajeros aereos. Cuenta con variables de identificacion de los mismos como: el genero, que tipo de consumidor es (si cuenta con membresia Loyal o Disloyal), edad, motivo de viaje (viaje personal o por trabajo), el tipo de clase en la cual viajo (Eco, Eco Plus o Business) y la distancia del vuelo.\n",
        "El mismo dataset tambien cuenta con una encuesta de satisfacción con puntajes del 0 al 5 en donde el viajero evalua los siguientes aspectos:\n",
        "- Servicio de Wifi abordo\n",
        "- Conveniencia del tiempo de arribo o partida del vuelo\n",
        "- Facilidad al reservar de forma Online\n",
        "- Ubicación de la puerta del vuelo\n",
        "- Comida y bebida\n",
        "- Abordaje del vuelo\n",
        "- Comodidad del asiento\n",
        "- Entretenimiento dentro del vuelo\n",
        "- Servicio de abordaje al vuelo\n",
        "- Espacio entre asientos (leg room)\n",
        "- Manejo de equipaje\n",
        "- Servicio de Check-in\n",
        "- Servicio dentro del vuelo\n",
        "- Limpieza\n",
        "\n",
        "**Audiencia:** Aerolinea\n"
      ]
    },
    {
      "cell_type": "markdown",
      "source": [
        "# Nueva sección"
      ],
      "metadata": {
        "id": "6dZk7kU7HTNW"
      }
    },
    {
      "cell_type": "markdown",
      "metadata": {
        "id": "1-YFMZHiziqL"
      },
      "source": [
        "**Analizar datos Tabulares**"
      ]
    },
    {
      "cell_type": "markdown",
      "metadata": {
        "id": "eqVyYPbiziqL"
      },
      "source": [
        "- importamos liberias"
      ]
    },
    {
      "cell_type": "code",
      "execution_count": null,
      "metadata": {
        "id": "LUsAogiDziqM"
      },
      "outputs": [],
      "source": [
        "import pandas as pd #manipulacion de dataframe\n",
        "import numpy as np #\n",
        "import matplotlib.pyplot as plt #visualizaciones\n",
        "import re # reemplazar espacios de las variables del dataset\n",
        "import seaborn as sns #visualizaciones\n",
        "import statsmodels.api as sm \n",
        "from sklearn import metrics # modulo para evaluar metricas del modelo\n",
        "from sklearn.ensemble import RandomForestClassifier #Algoritmo para clasificacion\n",
        "from sklearn.model_selection import train_test_split #separar datos para test y train\n",
        "from sklearn.preprocessing import LabelEncoder # nos permite convertir las variables categorias a numeros, (Gender M/F a 0/1)\n"
      ]
    },
    {
      "cell_type": "markdown",
      "source": [
        "- Importamos el dataset directamente de Kaggle  (Es necesario tener en nuestra carpeta el token kaggle.json)"
      ],
      "metadata": {
        "id": "uAzhru7C1EJq"
      }
    },
    {
      "cell_type": "code",
      "source": [
        "!ls -lha kaggle.json\n",
        "!pip install -q kaggle # installing the kaggle package\n",
        "!mkdir -p ~/.kaggle # creating .kaggle folder where the key should be placed\n",
        "!cp kaggle.json ~/.kaggle/ # move the key to the folder\n",
        "!pwd # checking the present working directory\n",
        "!kaggle datasets download -d teejmahal20/airline-passenger-satisfaction #ir a Kaggle y presionar en (...) luego Copy API command\n",
        "!unzip /content/airline-passenger-satisfaction.zip #descomprimir archivo\n",
        "df=pd.read_csv('train.csv') #Generamos el dataframe a partir del csv\n"
      ],
      "metadata": {
        "id": "Dft-m-Tltcui",
        "colab": {
          "base_uri": "https://localhost:8080/"
        },
        "outputId": "deb96a24-f4d3-4cbe-9600-cfa4b6d86446"
      },
      "execution_count": null,
      "outputs": [
        {
          "output_type": "stream",
          "name": "stdout",
          "text": [
            "-rw-r--r-- 1 root root 70 Dec 21 19:10 kaggle.json\n",
            "/content\n",
            "Warning: Your Kaggle API key is readable by other users on this system! To fix this, you can run 'chmod 600 /root/.kaggle/kaggle.json'\n",
            "Downloading airline-passenger-satisfaction.zip to /content\n",
            "  0% 0.00/2.71M [00:00<?, ?B/s]\n",
            "100% 2.71M/2.71M [00:00<00:00, 115MB/s]\n",
            "Archive:  /content/airline-passenger-satisfaction.zip\n",
            "  inflating: test.csv                \n",
            "  inflating: train.csv               \n"
          ]
        }
      ]
    },
    {
      "cell_type": "code",
      "source": [],
      "metadata": {
        "id": "V179CWW7N8IG"
      },
      "execution_count": null,
      "outputs": []
    },
    {
      "cell_type": "markdown",
      "source": [
        "**Data Wrangling**\n",
        "\n",
        "1.   Detección de valores nulos\n",
        "2.   Detección de valores duplicados\n",
        "3.   Manejo de datos faltantes\n",
        "\n"
      ],
      "metadata": {
        "id": "_25GK0_vCzLO"
      }
    },
    {
      "cell_type": "markdown",
      "source": [
        "- Deteccion de valores nulos"
      ],
      "metadata": {
        "id": "woILpoA_jeCG"
      }
    },
    {
      "cell_type": "code",
      "source": [
        "pd.set_option(\"display.max_rows\",None)\n",
        "df_nulos=df.isnull().sum().sort_values(ascending=False)\n",
        "df_nulos[df_nulos>0] "
      ],
      "metadata": {
        "colab": {
          "base_uri": "https://localhost:8080/"
        },
        "id": "TUqx0TzpgohZ",
        "outputId": "153fb08e-a654-42be-8ec6-76ebbaf5ef3c"
      },
      "execution_count": null,
      "outputs": [
        {
          "output_type": "execute_result",
          "data": {
            "text/plain": [
              "Arrival Delay in Minutes    310\n",
              "dtype: int64"
            ]
          },
          "metadata": {},
          "execution_count": 52
        }
      ]
    },
    {
      "cell_type": "markdown",
      "source": [
        "- Detección de valores duplicados"
      ],
      "metadata": {
        "id": "WwoT4_evkGhm"
      }
    },
    {
      "cell_type": "code",
      "source": [
        "df_dup=(df.duplicated() == True).sum()\n",
        "df_dup"
      ],
      "metadata": {
        "colab": {
          "base_uri": "https://localhost:8080/"
        },
        "id": "QaBM5KUphx0e",
        "outputId": "bcf23797-94a7-4236-9a86-d2924221638a"
      },
      "execution_count": null,
      "outputs": [
        {
          "output_type": "execute_result",
          "data": {
            "text/plain": [
              "0"
            ]
          },
          "metadata": {},
          "execution_count": 53
        }
      ]
    },
    {
      "cell_type": "markdown",
      "source": [
        "- Manejo de datos faltantes"
      ],
      "metadata": {
        "id": "g5wijpV9PZkV"
      }
    },
    {
      "cell_type": "markdown",
      "metadata": {
        "id": "5ll86uMkziqO"
      },
      "source": [
        "Comenzamos eliminando las columnas que no son utiles para el analisis en cuestion, y convertimos las propiedades de los datos desde integer a variables categoricas. De los 310 datos nulos antes presentados de la variable \" Arrival Delay in Minutes\" se reemplazaran por su media correspondiente, siendo la misma de 15.1786.\n",
        "\n",
        "Dado que no existen valores duplicados no se aplican cambios y se modifican los espacios en blanco de las variables por el caracter \"_\", concluyendo asi el manejo de datos faltantes para comenzar el analisis descriptivo."
      ]
    },
    {
      "cell_type": "code",
      "execution_count": null,
      "metadata": {
        "id": "oiP_DPdaziqO"
      },
      "outputs": [],
      "source": [
        "#df=df.drop(['Unnamed: 0','id'],axis=1) # Eliminar col Unnamed y id\n",
        "l=[x for x in df.columns if x not in ['Age','Flight Distance','Departure Delay in Minutes','Arrival Delay in Minutes']]\n",
        "df[l]=df[l].astype('category') #Convertir variables tipo int a category\n",
        "avg_norm_loss = df['Arrival Delay in Minutes'].astype(\"float\").mean(axis=0) #Imputacion de datos nulos ***\n",
        "df['Arrival Delay in Minutes'].replace(np.nan, avg_norm_loss, inplace=True)\n",
        "\n",
        "#Cambiamos los espacios de las variables del dataset por \"_\"\n",
        "for i in df.columns: \n",
        "  a=re.sub(r\"\\s+\",\"_\",i)\n",
        "  df.rename(columns={i:a},inplace=True) \n"
      ]
    },
    {
      "cell_type": "markdown",
      "source": [
        "**Analisis Descriptivo y exploratorio**"
      ],
      "metadata": {
        "id": "GJElGoJMQ5zH"
      }
    },
    {
      "cell_type": "markdown",
      "metadata": {
        "id": "NvSxp7yRziqP"
      },
      "source": [
        "- Analisis Descriptivo"
      ]
    },
    {
      "cell_type": "code",
      "execution_count": null,
      "metadata": {
        "id": "u3iZ7gUbziqP"
      },
      "outputs": [],
      "source": [
        "df.describe(include='all').T"
      ]
    },
    {
      "cell_type": "markdown",
      "metadata": {
        "id": "-2O-5XntziqQ"
      },
      "source": [
        "- Analisis Exploratorio de datos (EDA)"
      ]
    },
    {
      "cell_type": "markdown",
      "metadata": {
        "id": "HeEHtZ5VziqQ"
      },
      "source": [
        "*Analisis Univariado*\n",
        "- V1 - Piechart: se plotea la distribución de las variables target ('satisfaction') y Genero"
      ]
    },
    {
      "cell_type": "code",
      "execution_count": null,
      "metadata": {
        "id": "g2-L0z3HziqQ"
      },
      "outputs": [],
      "source": [
        "df1=df['satisfaction'].value_counts()\n",
        "df2=df['Gender'].value_counts()\n",
        "plt.subplot(1,2,1)\n",
        "df1.plot(kind='pie', title='Distribución - Satisfaction',figsize=(8,5),autopct='%.f%%',label='',colors=['pink','lightblue','red'])\n",
        "plt.subplot(1,2,2)\n",
        "df2.plot(kind='pie', title='Distribución - Gender ',figsize=(8,5),autopct='%.f%%',label='',colors=['pink','lightblue','red'])\n",
        "plt.show()"
      ]
    },
    {
      "cell_type": "markdown",
      "metadata": {
        "id": "7fJGpxRKziqR"
      },
      "source": [
        "*Analisis Bivariado*\n",
        "- V2 - barplot: Se busca determinar si el genero tiene incidencia sobre la satisfaccion del usuario"
      ]
    },
    {
      "cell_type": "code",
      "execution_count": null,
      "metadata": {
        "id": "bJzIOUDzziqR",
        "outputId": "6bfa7b61-d6d1-416f-f13e-4ae4840c0399",
        "colab": {
          "base_uri": "https://localhost:8080/",
          "height": 295
        }
      },
      "outputs": [
        {
          "output_type": "display_data",
          "data": {
            "text/plain": [
              "<Figure size 576x288 with 1 Axes>"
            ],
            "image/png": "[encoded data removed]"
          },
          "metadata": {
            "needs_background": "light"
          }
        }
      ],
      "source": [
        "df1=df[['Gender','satisfaction']].value_counts().reset_index()\n",
        "fig,ax=plt.subplots(figsize=(8,4))\n",
        "ax.set_title('Satisfaccion segun genero')\n",
        "sns.barplot(data=df1,x='satisfaction',y=0,hue='Gender')\n",
        "plt.show()"
      ]
    },
    {
      "cell_type": "markdown",
      "metadata": {
        "id": "JCWdhvOTziqS"
      },
      "source": [
        "- V3 - Boxplot: Se busca determinar si el tiempo de vuelo tienen incidencia en la satisfacion del usuario"
      ]
    },
    {
      "cell_type": "code",
      "execution_count": null,
      "metadata": {
        "id": "A_Corn_HziqS",
        "outputId": "09c63089-69bb-4349-85c3-cbf7f6f2f34f",
        "colab": {
          "base_uri": "https://localhost:8080/",
          "height": 295
        }
      },
      "outputs": [
        {
          "output_type": "display_data",
          "data": {
            "text/plain": [
              "<Figure size 432x288 with 1 Axes>"
            ],
            "image/png": "[encoded data removed]"
          },
          "metadata": {
            "needs_background": "light"
          }
        }
      ],
      "source": [
        "fig,ax=plt.subplots()\n",
        "sns.boxplot(data=df,y='Flight_Distance',x='satisfaction')\n",
        "ax.set_title('Tiempo de vuelo vs Satisfaccion')\n",
        "plt.show()"
      ]
    },
    {
      "cell_type": "markdown",
      "metadata": {
        "id": "mDpZghYwziqS"
      },
      "source": [
        "- V4 - barplot: Se busca determinar si la variable Class tiene incidencia sobre la satisfaccion del usuario"
      ]
    },
    {
      "cell_type": "code",
      "execution_count": null,
      "metadata": {
        "id": "Smo-B4xTziqS",
        "outputId": "f2057709-ba76-4ad1-f06a-783c1b57beec",
        "colab": {
          "base_uri": "https://localhost:8080/",
          "height": 279
        }
      },
      "outputs": [
        {
          "output_type": "display_data",
          "data": {
            "text/plain": [
              "<Figure size 432x288 with 1 Axes>"
            ],
            "image/png": "[encoded data removed]"
          },
          "metadata": {
            "needs_background": "light"
          }
        }
      ],
      "source": [
        "df1=df[['Class','satisfaction']].value_counts().reset_index()\n",
        "sns.barplot(data=df1,x='Class',y=0,hue='satisfaction')\n",
        "plt.show()"
      ]
    },
    {
      "cell_type": "markdown",
      "metadata": {
        "id": "1QzK4xQaziqT"
      },
      "source": [
        "**Conclusiones**\n",
        "- V1: La distribucion de la variable target \"satisfaction\" esta balanceado (Insatisfechos o Neutro 57%, Satisfechos 43%)\n",
        "- V1: La distribucion de la variable \"Gender\" esta balanceada (51% Hombres, 49% mujeres)\n",
        "- V2: No se observa incidencia del sexo sobre satisfaccion del cliente.\n",
        "- V3: Se observa que a mayor tiempo de vuelo, el usuario suele estar mas satisfecho con el servicio.\n",
        "- V4: Se observa una clara incidencia de la variable \"Class\" sobre la satisfaccion del usuario. Usuarios que viajan en clase \"Business\" suelen estar mayormente satisfechos, por el contrario los usuarios que viajen en clase \"Eco class\" suelen estar mayormente insatisfechos o neutro. \n"
      ]
    },
    {
      "cell_type": "markdown",
      "metadata": {
        "id": "ykYabr6nziqT"
      },
      "source": [
        "**3. Modelos de Machine Learning**"
      ]
    },
    {
      "cell_type": "markdown",
      "metadata": {
        "id": "SOc22kDoziqT"
      },
      "source": [
        "- Generamos un dataframe con variables de tipo categoricas y luego mediante el uso del modulo LabelEncoder, convertimos las variables categoricas a numericas"
      ]
    },
    {
      "cell_type": "code",
      "execution_count": null,
      "metadata": {
        "id": "3SMgylEhziqT"
      },
      "outputs": [],
      "source": [
        "df_categorico = df.select_dtypes(include = 'category')\n",
        "le=LabelEncoder()\n",
        "for col in df_categorico.columns:\n",
        "    df[col] = le.fit_transform(df[col])"
      ]
    },
    {
      "cell_type": "markdown",
      "metadata": {
        "id": "MG2IkSOYziqT"
      },
      "source": [
        "- Dividimos el dataframe en dos, Varible Target 'y' (Serie) y variables explicativas 'X' (Dataframe)"
      ]
    },
    {
      "cell_type": "code",
      "execution_count": null,
      "metadata": {
        "id": "a9ciC2MQziqU"
      },
      "outputs": [],
      "source": [
        "#Separamos la variable target y variables explicativas\n",
        "X=df.drop('satisfaction',axis=1) # 22 columnas\n",
        "y=df['satisfaction'] # Variable Target"
      ]
    },
    {
      "cell_type": "markdown",
      "metadata": {
        "id": "jFqsr-VXziqU"
      },
      "source": [
        "- Mediante el uso del metodo Backward Elimination, realizamos feature selection (disminuir dimensionalidad del df)"
      ]
    },
    {
      "cell_type": "code",
      "execution_count": null,
      "metadata": {
        "id": "7WD_Sa3qziqU",
        "outputId": "e14b1cd5-2fa8-480e-db27-0c03c599bf43",
        "colab": {
          "base_uri": "https://localhost:8080/"
        }
      },
      "outputs": [
        {
          "output_type": "stream",
          "name": "stderr",
          "text": [
            "/usr/local/lib/python3.8/dist-packages/statsmodels/tsa/tsatools.py:142: FutureWarning: In a future version of pandas all arguments of concat except for the argument 'objs' will be keyword-only\n",
            "  x = pd.concat(x[::order], 1)\n"
          ]
        },
        {
          "output_type": "execute_result",
          "data": {
            "text/plain": [
              "['Gender',\n",
              " 'Customer_Type',\n",
              " 'Age',\n",
              " 'Type_of_Travel',\n",
              " 'Class',\n",
              " 'Flight_Distance',\n",
              " 'Inflight_wifi_service',\n",
              " 'Departure/Arrival_time_convenient',\n",
              " 'Ease_of_Online_booking',\n",
              " 'Gate_location',\n",
              " 'Food_and_drink',\n",
              " 'Online_boarding',\n",
              " 'Seat_comfort',\n",
              " 'Inflight_entertainment',\n",
              " 'On-board_service',\n",
              " 'Leg_room_service',\n",
              " 'Baggage_handling',\n",
              " 'Checkin_service',\n",
              " 'Inflight_service',\n",
              " 'Cleanliness',\n",
              " 'Departure_Delay_in_Minutes',\n",
              " 'Arrival_Delay_in_Minutes']"
            ]
          },
          "metadata": {},
          "execution_count": 67
        }
      ],
      "source": [
        "#Funcion Feature Selection Backward Elimination\n",
        "def backward_elimination(data, target,significance_level = 0.05): # significance = 0.0001 elimina 3 columnas\n",
        "    features = data.columns.tolist()\n",
        "    \n",
        "    while(len(features)>0): \n",
        "        features_with_constant = sm.add_constant(data[features])\n",
        "        p_values = sm.OLS(target, features_with_constant).fit().pvalues[1:]\n",
        "        max_p_value = p_values.max()\n",
        "        if(max_p_value >= significance_level): #max_p_value: 0.0008\n",
        "            excluded_feature = p_values.idxmax()\n",
        "            features.remove(excluded_feature)\n",
        "        else:\n",
        "            break \n",
        "    return features\n",
        "#Se llama la funcion de feature Selection\n",
        "backward_elimination(X,y) #Nos treae 22 columnas, no elimina ninguna"
      ]
    },
    {
      "cell_type": "markdown",
      "metadata": {
        "id": "zqvntPknziqU"
      },
      "source": [
        "Aun manteniendo un nivel de significacion bajo, el modelo no rechaza estadisticamente ninguna de las variables por lo que cual mantuvimos un modelo de 22 variables explicativas para explicar el nivel de satisfacción del viajero. Aunque no negamos tener problemas de multicolinealidad entre las variables por las homogeneidad de las mismas."
      ]
    },
    {
      "cell_type": "markdown",
      "metadata": {
        "id": "bQM_ssCbziqU"
      },
      "source": [
        "- Vamos a separar los conjuntos X,y en 4 subconjuntos: X_train, X_test, y_train, y_test"
      ]
    },
    {
      "cell_type": "code",
      "execution_count": null,
      "metadata": {
        "id": "fZjJgSaAziqV"
      },
      "outputs": [],
      "source": [
        "#Dividir datos para train y para test\n",
        "from sklearn.model_selection import train_test_split\n",
        "# Separamos en entrenamiento/test en razon 80/20% (train/test%)\n",
        "X_train, X_test, y_train, y_test = train_test_split(X,y,test_size=0.2, random_state=1)"
      ]
    },
    {
      "cell_type": "markdown",
      "metadata": {
        "id": "UdZgSdBUziqV"
      },
      "source": [
        "- Algoritmo Clasificacion (RandomForestClassifier)"
      ]
    },
    {
      "cell_type": "code",
      "execution_count": null,
      "metadata": {
        "id": "1ePHayGGziqV",
        "outputId": "b59decad-7757-4451-8729-4f8e0e4d57d4",
        "colab": {
          "base_uri": "https://localhost:8080/",
          "height": 368
        }
      },
      "outputs": [
        {
          "output_type": "stream",
          "name": "stderr",
          "text": [
            "/usr/local/lib/python3.8/dist-packages/sklearn/utils/deprecation.py:87: FutureWarning: Function plot_confusion_matrix is deprecated; Function `plot_confusion_matrix` is deprecated in 1.0 and will be removed in 1.2. Use one of the class methods: ConfusionMatrixDisplay.from_predictions or ConfusionMatrixDisplay.from_estimator.\n",
            "  warnings.warn(msg, category=FutureWarning)\n"
          ]
        },
        {
          "output_type": "execute_result",
          "data": {
            "text/plain": [
              "<sklearn.metrics._plot.confusion_matrix.ConfusionMatrixDisplay at 0x7f754dbe74f0>"
            ]
          },
          "metadata": {},
          "execution_count": 69
        },
        {
          "output_type": "display_data",
          "data": {
            "text/plain": [
              "<Figure size 720x432 with 0 Axes>"
            ]
          },
          "metadata": {}
        },
        {
          "output_type": "display_data",
          "data": {
            "text/plain": [
              "<Figure size 432x288 with 2 Axes>"
            ],
            "image/png": "[encoded data removed]"
          },
          "metadata": {
            "needs_background": "light"
          }
        }
      ],
      "source": [
        "from sklearn import metrics\n",
        "from sklearn.ensemble import RandomForestClassifier\n",
        "modelo = RandomForestClassifier(random_state=1)\n",
        "modelo.fit(X_train, y_train)\n",
        "preds=modelo.predict(X_test)\n",
        "preds\n",
        "#plt.figure(figsize=(10,6))\n",
        "#metrics.plot_confusion_matrix(modelo, X_test, y_test, display_labels=['Negative', 'Positive'])"
      ]
    },
    {
      "cell_type": "markdown",
      "metadata": {
        "id": "-8hQbzyNziqV"
      },
      "source": [
        "El algoritmo explica correctamente 11.614 verdaderos negativos y 8.378 verdaderos positivos. Con solo 789 falsos negativos y positivos respectivamente."
      ]
    },
    {
      "cell_type": "markdown",
      "metadata": {
        "id": "v3eDsEMzziqV"
      },
      "source": [
        "El modelo predice correctamente el 96% de los casos de estudio, por lo cual es un muy buen modelo para predecir en base a los atributos de los coeficientes la satisfaccion o falta de ella del viaje en avion.\n",
        "Nuestras futuras intenciones son en base a clustering caracterizar a los viajeros para determinar si, en base a las decisiones que tomen y caracteristicas innatas de los mismos, si se va a sentir conforme o no con el viaje ofrecido."
      ]
    },
    {
      "cell_type": "code",
      "source": [
        "acurracy=metrics.accuracy_score(y_test,preds)\n",
        "acurracy"
      ],
      "metadata": {
        "id": "2vUngF6tfDPk"
      },
      "execution_count": null,
      "outputs": []
    }
  ],
  "metadata": {
    "kernelspec": {
      "display_name": "Python 3.9.6 64-bit",
      "language": "python",
      "name": "python3"
    },
    "language_info": {
      "codemirror_mode": {
        "name": "ipython",
        "version": 3
      },
      "file_extension": ".py",
      "mimetype": "text/x-python",
      "name": "python",
      "nbconvert_exporter": "python",
      "pygments_lexer": "ipython3",
      "version": "3.9.6"
    },
    "orig_nbformat": 4,
    "vscode": {
      "interpreter": {
        "hash": "2e0d22661c28763396888a0d8676cc4efc4f19950359313e37ce977222d5c70c"
      }
    },
    "colab": {
      "provenance": [],
      "toc_visible": true
    }
  },
  "nbformat": 4,
  "nbformat_minor": 0
}